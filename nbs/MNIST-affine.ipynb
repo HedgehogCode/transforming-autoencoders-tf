{
 "cells": [
  {
   "cell_type": "code",
   "execution_count": 1,
   "metadata": {},
   "outputs": [],
   "source": [
    "# Change to project root\n",
    "import os\n",
    "os.chdir('..')"
   ]
  },
  {
   "cell_type": "code",
   "execution_count": 2,
   "metadata": {},
   "outputs": [],
   "source": [
    "# Autoreload\n",
    "%load_ext autoreload\n",
    "%autoreload 2"
   ]
  },
  {
   "cell_type": "code",
   "execution_count": 3,
   "metadata": {},
   "outputs": [],
   "source": [
    "import tensorflow as tf\n",
    "import numpy as np"
   ]
  },
  {
   "cell_type": "code",
   "execution_count": 14,
   "metadata": {},
   "outputs": [],
   "source": [
    "parallel_calls = 8\n",
    "max_trans = 3\n",
    "stddev = 0.1"
   ]
  },
  {
   "cell_type": "markdown",
   "metadata": {},
   "source": [
    "# Load the data"
   ]
  },
  {
   "cell_type": "code",
   "execution_count": 15,
   "metadata": {},
   "outputs": [
    {
     "name": "stdout",
     "output_type": "stream",
     "text": [
      "Extracting data/train-images-idx3-ubyte.gz\n",
      "Extracting data/train-labels-idx1-ubyte.gz\n",
      "Extracting data/t10k-images-idx3-ubyte.gz\n",
      "Extracting data/t10k-labels-idx1-ubyte.gz\n"
     ]
    }
   ],
   "source": [
    "from transforming_autoencoders import mnist, data\n",
    "mnist_data = mnist.MNIST('data')"
   ]
  },
  {
   "cell_type": "code",
   "execution_count": 16,
   "metadata": {},
   "outputs": [],
   "source": [
    "def train_input_fn(batch_size):\n",
    "    return mnist_data.train_input_fn()(batch_size,\n",
    "                                       lambda: data.affine_fn(batch_size, stddev, max_trans),\n",
    "                                       parallel_calls)\n",
    "def eval_input_fn(batch_size):\n",
    "    return mnist_data.eval_input_fn()(batch_size,\n",
    "                                      lambda: data.affine_fn(batch_size, stddev, max_trans),\n",
    "                                      parallel_calls)"
   ]
  },
  {
   "cell_type": "markdown",
   "metadata": {},
   "source": [
    "# Create the estimator"
   ]
  },
  {
   "cell_type": "code",
   "execution_count": 20,
   "metadata": {},
   "outputs": [
    {
     "name": "stdout",
     "output_type": "stream",
     "text": [
      "INFO:tensorflow:Using default config.\n",
      "INFO:tensorflow:Using config: {'_model_dir': 'model/affine', '_tf_random_seed': None, '_save_summary_steps': 100, '_save_checkpoints_steps': None, '_save_checkpoints_secs': 600, '_session_config': None, '_keep_checkpoint_max': 5, '_keep_checkpoint_every_n_hours': 10000, '_log_step_count_steps': 100, '_service': None, '_cluster_spec': <tensorflow.python.training.server_lib.ClusterSpec object at 0x7f23957d5f98>, '_task_type': 'worker', '_task_id': 0, '_global_id_in_cluster': 0, '_master': '', '_evaluation_master': '', '_is_chief': True, '_num_ps_replicas': 0, '_num_worker_replicas': 1}\n"
     ]
    }
   ],
   "source": [
    "from transforming_autoencoders import trans_autoencoder_estimator\n",
    "model = trans_autoencoder_estimator.create_transforming_autoencoder(model_dir='model/affine',\n",
    "                                                                    num_capsules=30,\n",
    "                                                                    num_rec=50,\n",
    "                                                                    num_gen=50,\n",
    "                                                                    trans_size=8,\n",
    "                                                                    trans_fn='affine')"
   ]
  },
  {
   "cell_type": "markdown",
   "metadata": {},
   "source": [
    "# Train the model"
   ]
  },
  {
   "cell_type": "code",
   "execution_count": 21,
   "metadata": {},
   "outputs": [
    {
     "name": "stdout",
     "output_type": "stream",
     "text": [
      "INFO:tensorflow:Calling model_fn.\n",
      "INFO:tensorflow:Done calling model_fn.\n",
      "INFO:tensorflow:Create CheckpointSaverHook.\n",
      "INFO:tensorflow:Graph was finalized.\n",
      "INFO:tensorflow:Running local_init_op.\n",
      "INFO:tensorflow:Done running local_init_op.\n",
      "INFO:tensorflow:Saving checkpoints for 1 into model/affine/model.ckpt.\n",
      "INFO:tensorflow:loss = 0.37844738, step = 1\n",
      "INFO:tensorflow:global_step/sec: 25.6182\n",
      "INFO:tensorflow:loss = 0.08292472, step = 101 (3.904 sec)\n",
      "INFO:tensorflow:global_step/sec: 50.1656\n",
      "INFO:tensorflow:loss = 0.079643875, step = 201 (1.993 sec)\n",
      "INFO:tensorflow:global_step/sec: 48.0244\n",
      "INFO:tensorflow:loss = 0.06925725, step = 301 (2.083 sec)\n",
      "INFO:tensorflow:global_step/sec: 45.4588\n",
      "INFO:tensorflow:loss = 0.067290306, step = 401 (2.199 sec)\n",
      "INFO:tensorflow:global_step/sec: 43.0852\n",
      "INFO:tensorflow:loss = 0.06621786, step = 501 (2.323 sec)\n",
      "INFO:tensorflow:global_step/sec: 44.6603\n",
      "INFO:tensorflow:loss = 0.07064296, step = 601 (2.237 sec)\n",
      "INFO:tensorflow:global_step/sec: 49.1319\n",
      "INFO:tensorflow:loss = 0.06317102, step = 701 (2.038 sec)\n",
      "INFO:tensorflow:global_step/sec: 54.9903\n",
      "INFO:tensorflow:loss = 0.06569795, step = 801 (1.817 sec)\n",
      "INFO:tensorflow:global_step/sec: 53.1712\n",
      "INFO:tensorflow:loss = 0.059943065, step = 901 (1.880 sec)\n",
      "INFO:tensorflow:global_step/sec: 55.8588\n",
      "INFO:tensorflow:loss = 0.06262774, step = 1001 (1.790 sec)\n",
      "INFO:tensorflow:global_step/sec: 54.0607\n",
      "INFO:tensorflow:loss = 0.06287018, step = 1101 (1.850 sec)\n",
      "INFO:tensorflow:global_step/sec: 56.3651\n",
      "INFO:tensorflow:loss = 0.06529774, step = 1201 (1.774 sec)\n",
      "INFO:tensorflow:global_step/sec: 56.317\n",
      "INFO:tensorflow:loss = 0.064519, step = 1301 (1.776 sec)\n",
      "INFO:tensorflow:global_step/sec: 54.3953\n",
      "INFO:tensorflow:loss = 0.06580229, step = 1401 (1.839 sec)\n",
      "INFO:tensorflow:global_step/sec: 47.7238\n",
      "INFO:tensorflow:loss = 0.060410228, step = 1501 (2.095 sec)\n",
      "INFO:tensorflow:global_step/sec: 49.533\n",
      "INFO:tensorflow:loss = 0.06163742, step = 1601 (2.019 sec)\n",
      "INFO:tensorflow:global_step/sec: 48.891\n",
      "INFO:tensorflow:loss = 0.06656573, step = 1701 (2.045 sec)\n",
      "INFO:tensorflow:global_step/sec: 47.0128\n",
      "INFO:tensorflow:loss = 0.06347216, step = 1801 (2.128 sec)\n",
      "INFO:tensorflow:global_step/sec: 40.7913\n",
      "INFO:tensorflow:loss = 0.05798201, step = 1901 (2.451 sec)\n",
      "INFO:tensorflow:global_step/sec: 44.0253\n",
      "INFO:tensorflow:loss = 0.064535305, step = 2001 (2.271 sec)\n",
      "INFO:tensorflow:global_step/sec: 41.7179\n",
      "INFO:tensorflow:loss = 0.058001798, step = 2101 (2.404 sec)\n",
      "INFO:tensorflow:global_step/sec: 46.9286\n",
      "INFO:tensorflow:loss = 0.059908204, step = 2201 (2.125 sec)\n",
      "INFO:tensorflow:global_step/sec: 48.8918\n",
      "INFO:tensorflow:loss = 0.06070616, step = 2301 (2.045 sec)\n",
      "INFO:tensorflow:global_step/sec: 56.1322\n",
      "INFO:tensorflow:loss = 0.058393177, step = 2401 (1.782 sec)\n",
      "INFO:tensorflow:global_step/sec: 48.8009\n",
      "INFO:tensorflow:loss = 0.062318042, step = 2501 (2.049 sec)\n",
      "INFO:tensorflow:global_step/sec: 55.3682\n",
      "INFO:tensorflow:loss = 0.05626142, step = 2601 (1.806 sec)\n",
      "INFO:tensorflow:global_step/sec: 53.6276\n",
      "INFO:tensorflow:loss = 0.059423834, step = 2701 (1.865 sec)\n",
      "INFO:tensorflow:global_step/sec: 53.9151\n",
      "INFO:tensorflow:loss = 0.060119282, step = 2801 (1.855 sec)\n",
      "INFO:tensorflow:global_step/sec: 54.7483\n",
      "INFO:tensorflow:loss = 0.056692034, step = 2901 (1.826 sec)\n",
      "INFO:tensorflow:global_step/sec: 56.2289\n",
      "INFO:tensorflow:loss = 0.05952105, step = 3001 (1.778 sec)\n",
      "INFO:tensorflow:global_step/sec: 56.3844\n",
      "INFO:tensorflow:loss = 0.058926128, step = 3101 (1.774 sec)\n",
      "INFO:tensorflow:global_step/sec: 58.0421\n",
      "INFO:tensorflow:loss = 0.056010373, step = 3201 (1.723 sec)\n",
      "INFO:tensorflow:global_step/sec: 58.3128\n",
      "INFO:tensorflow:loss = 0.05825739, step = 3301 (1.715 sec)\n",
      "INFO:tensorflow:global_step/sec: 56.3119\n",
      "INFO:tensorflow:loss = 0.056586508, step = 3401 (1.775 sec)\n",
      "INFO:tensorflow:global_step/sec: 55.8235\n",
      "INFO:tensorflow:loss = 0.054497663, step = 3501 (1.791 sec)\n",
      "INFO:tensorflow:global_step/sec: 56.2731\n",
      "INFO:tensorflow:loss = 0.056282934, step = 3601 (1.777 sec)\n",
      "INFO:tensorflow:global_step/sec: 58.3899\n",
      "INFO:tensorflow:loss = 0.05512794, step = 3701 (1.712 sec)\n",
      "INFO:tensorflow:global_step/sec: 56.3151\n",
      "INFO:tensorflow:loss = 0.055187307, step = 3801 (1.776 sec)\n",
      "INFO:tensorflow:global_step/sec: 54.4473\n",
      "INFO:tensorflow:loss = 0.054698758, step = 3901 (1.836 sec)\n",
      "INFO:tensorflow:global_step/sec: 57.9014\n",
      "INFO:tensorflow:loss = 0.05481443, step = 4001 (1.727 sec)\n",
      "INFO:tensorflow:global_step/sec: 58.2179\n",
      "INFO:tensorflow:loss = 0.05728686, step = 4101 (1.718 sec)\n",
      "INFO:tensorflow:global_step/sec: 56.7649\n",
      "INFO:tensorflow:loss = 0.059154168, step = 4201 (1.761 sec)\n",
      "INFO:tensorflow:global_step/sec: 58.2459\n",
      "INFO:tensorflow:loss = 0.055613194, step = 4301 (1.718 sec)\n",
      "INFO:tensorflow:global_step/sec: 58.0336\n",
      "INFO:tensorflow:loss = 0.058672864, step = 4401 (1.722 sec)\n",
      "INFO:tensorflow:global_step/sec: 57.9913\n",
      "INFO:tensorflow:loss = 0.052242294, step = 4501 (1.725 sec)\n",
      "INFO:tensorflow:global_step/sec: 58.3076\n",
      "INFO:tensorflow:loss = 0.05919713, step = 4601 (1.715 sec)\n",
      "INFO:tensorflow:global_step/sec: 58.0854\n",
      "INFO:tensorflow:loss = 0.056004792, step = 4701 (1.721 sec)\n",
      "INFO:tensorflow:global_step/sec: 57.5529\n",
      "INFO:tensorflow:loss = 0.051698558, step = 4801 (1.738 sec)\n",
      "INFO:tensorflow:global_step/sec: 54.4491\n",
      "INFO:tensorflow:loss = 0.052943055, step = 4901 (1.837 sec)\n",
      "INFO:tensorflow:global_step/sec: 52.219\n",
      "INFO:tensorflow:loss = 0.057219397, step = 5001 (1.915 sec)\n",
      "INFO:tensorflow:global_step/sec: 52.5698\n",
      "INFO:tensorflow:loss = 0.049889427, step = 5101 (1.903 sec)\n",
      "INFO:tensorflow:Saving checkpoints for 5156 into model/affine/model.ckpt.\n",
      "INFO:tensorflow:Loss for final step: 0.054351028.\n"
     ]
    },
    {
     "data": {
      "text/plain": [
       "<tensorflow.python.estimator.estimator.Estimator at 0x7f23957d5d30>"
      ]
     },
     "execution_count": 21,
     "metadata": {},
     "output_type": "execute_result"
    }
   ],
   "source": [
    "batch_size = 64\n",
    "epochs = 6\n",
    "steps = int(mnist_data.train_size() * epochs / batch_size)\n",
    "model.train(input_fn=lambda:train_input_fn(batch_size), steps=steps)"
   ]
  },
  {
   "cell_type": "markdown",
   "metadata": {},
   "source": [
    "# Evaluate the model"
   ]
  },
  {
   "cell_type": "code",
   "execution_count": 22,
   "metadata": {},
   "outputs": [],
   "source": [
    "test_data = eval_input_fn(4)\n",
    "with tf.Session() as sess:\n",
    "    img, trans, expec = sess.run([test_data[0]['image'],\n",
    "                                 test_data[0]['transformation'],\n",
    "                                 test_data[1]])"
   ]
  },
  {
   "cell_type": "code",
   "execution_count": 23,
   "metadata": {},
   "outputs": [
    {
     "name": "stdout",
     "output_type": "stream",
     "text": [
      "INFO:tensorflow:Calling model_fn.\n",
      "INFO:tensorflow:Done calling model_fn.\n",
      "INFO:tensorflow:Graph was finalized.\n",
      "INFO:tensorflow:Restoring parameters from model/affine/model.ckpt-5156\n",
      "INFO:tensorflow:Running local_init_op.\n",
      "INFO:tensorflow:Done running local_init_op.\n"
     ]
    }
   ],
   "source": [
    "predict_input_fn = tf.estimator.inputs.numpy_input_fn(\n",
    "    x={\"image\": img, \"transformation\": trans},\n",
    "    num_epochs=1,\n",
    "    shuffle=False)\n",
    "yhat = list(model.predict(input_fn=predict_input_fn))\n",
    "pred = np.array(list(map(lambda x: x['out_image'], yhat)))"
   ]
  },
  {
   "cell_type": "code",
   "execution_count": 24,
   "metadata": {},
   "outputs": [
    {
     "data": {
      "image/png": "[encoded data removed]",
      "text/plain": [
       "<Figure size 432x288 with 4 Axes>"
      ]
     },
     "metadata": {},
     "output_type": "display_data"
    },
    {
     "data": {
      "image/png": "[encoded data removed]",
      "text/plain": [
       "<Figure size 432x288 with 4 Axes>"
      ]
     },
     "metadata": {},
     "output_type": "display_data"
    },
    {
     "data": {
      "image/png": "[encoded data removed]",
      "text/plain": [
       "<Figure size 432x288 with 4 Axes>"
      ]
     },
     "metadata": {},
     "output_type": "display_data"
    },
    {
     "name": "stdout",
     "output_type": "stream",
     "text": [
      "[[ 0.92340314 -0.08825365  4.657329    0.00611555  0.9811933   2.372975\n",
      "   0.          0.        ]\n",
      " [ 0.7713575  -0.04668379  1.8864113   0.15945038  1.2234573   3.6833088\n",
      "   0.          0.        ]\n",
      " [ 1.1779684   0.17133403  2.267608    0.01605221  1.0185778  -1.1051764\n",
      "   0.          0.        ]\n",
      " [ 1.3881019  -0.15428981  2.1287398  -0.2551152   0.95205826 -2.4686186\n",
      "   0.          0.        ]]\n"
     ]
    }
   ],
   "source": [
    "from transforming_autoencoders import plot\n",
    "plot.plot_some(img)\n",
    "plot.plot_some(expec)\n",
    "plot.plot_some(pred)\n",
    "print(trans)"
   ]
  }
 ],
 "metadata": {
  "kernelspec": {
   "display_name": "transforming-autoencoders",
   "language": "python",
   "name": "transforming-autoencoders"
  },
  "language_info": {
   "codemirror_mode": {
    "name": "ipython",
    "version": 3
   },
   "file_extension": ".py",
   "mimetype": "text/x-python",
   "name": "python",
   "nbconvert_exporter": "python",
   "pygments_lexer": "ipython3",
   "version": "3.6.4"
  }
 },
 "nbformat": 4,
 "nbformat_minor": 2
}
