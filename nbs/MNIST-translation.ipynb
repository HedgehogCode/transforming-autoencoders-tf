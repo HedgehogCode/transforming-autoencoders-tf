{
 "cells": [
  {
   "cell_type": "code",
   "execution_count": 1,
   "metadata": {},
   "outputs": [],
   "source": [
    "# Change to project root\n",
    "import os\n",
    "os.chdir('..')"
   ]
  },
  {
   "cell_type": "code",
   "execution_count": 2,
   "metadata": {},
   "outputs": [],
   "source": [
    "# Autoreload\n",
    "%load_ext autoreload\n",
    "%autoreload 2"
   ]
  },
  {
   "cell_type": "code",
   "execution_count": 3,
   "metadata": {},
   "outputs": [],
   "source": [
    "import tensorflow as tf\n",
    "import numpy as np"
   ]
  },
  {
   "cell_type": "code",
   "execution_count": 4,
   "metadata": {},
   "outputs": [],
   "source": [
    "min_trans = -4\n",
    "max_trans = 4\n",
    "parallel_calls = 8"
   ]
  },
  {
   "cell_type": "markdown",
   "metadata": {},
   "source": [
    "# Load the data"
   ]
  },
  {
   "cell_type": "code",
   "execution_count": 5,
   "metadata": {},
   "outputs": [
    {
     "name": "stdout",
     "output_type": "stream",
     "text": [
      "Extracting data/train-images-idx3-ubyte.gz\n",
      "Extracting data/train-labels-idx1-ubyte.gz\n",
      "Extracting data/t10k-images-idx3-ubyte.gz\n",
      "Extracting data/t10k-labels-idx1-ubyte.gz\n"
     ]
    }
   ],
   "source": [
    "from transforming_autoencoders import mnist, data\n",
    "mnist_data = mnist.MNIST('data')\n",
    "\n",
    "def train_input_fn(batch_size):\n",
    "    return mnist_data.train_input_fn()(batch_size,\n",
    "                                       lambda:data.translation_fn(batch_size, min_trans,max_trans),\n",
    "                                       parallel_calls)\n",
    "def eval_input_fn(batch_size):\n",
    "    return mnist_data.eval_input_fn()(batch_size,\n",
    "                                      lambda:data.translation_fn(batch_size, min_trans,max_trans),\n",
    "                                      parallel_calls)"
   ]
  },
  {
   "cell_type": "markdown",
   "metadata": {},
   "source": [
    "# Create the estimator"
   ]
  },
  {
   "cell_type": "code",
   "execution_count": 6,
   "metadata": {},
   "outputs": [
    {
     "name": "stdout",
     "output_type": "stream",
     "text": [
      "INFO:tensorflow:Using default config.\n",
      "INFO:tensorflow:Using config: {'_model_dir': 'model/translation-2', '_tf_random_seed': None, '_save_summary_steps': 100, '_save_checkpoints_steps': None, '_save_checkpoints_secs': 600, '_session_config': None, '_keep_checkpoint_max': 5, '_keep_checkpoint_every_n_hours': 10000, '_log_step_count_steps': 100, '_service': None, '_cluster_spec': <tensorflow.python.training.server_lib.ClusterSpec object at 0x7ff8b0826390>, '_task_type': 'worker', '_task_id': 0, '_global_id_in_cluster': 0, '_master': '', '_evaluation_master': '', '_is_chief': True, '_num_ps_replicas': 0, '_num_worker_replicas': 1}\n"
     ]
    }
   ],
   "source": [
    "from transforming_autoencoders import trans_autoencoder_estimator\n",
    "model = trans_autoencoder_estimator.create_transforming_autoencoder(model_dir='model/translation-2',\n",
    "                                                                    num_capsules=30,\n",
    "                                                                    num_rec=50,\n",
    "                                                                    num_gen=50,\n",
    "                                                                    trans_size=2,\n",
    "                                                                    trans_fn='translation')"
   ]
  },
  {
   "cell_type": "markdown",
   "metadata": {},
   "source": [
    "# Train the model"
   ]
  },
  {
   "cell_type": "code",
   "execution_count": 7,
   "metadata": {},
   "outputs": [
    {
     "name": "stdout",
     "output_type": "stream",
     "text": [
      "INFO:tensorflow:Calling model_fn.\n",
      "INFO:tensorflow:Done calling model_fn.\n",
      "INFO:tensorflow:Create CheckpointSaverHook.\n",
      "INFO:tensorflow:Graph was finalized.\n",
      "INFO:tensorflow:Restoring parameters from model/translation-2/model.ckpt-5156\n",
      "INFO:tensorflow:Running local_init_op.\n",
      "INFO:tensorflow:Done running local_init_op.\n",
      "INFO:tensorflow:Saving checkpoints for 5157 into model/translation-2/model.ckpt.\n",
      "INFO:tensorflow:loss = 0.037233498, step = 5157\n",
      "INFO:tensorflow:global_step/sec: 44.953\n",
      "INFO:tensorflow:loss = 0.036099102, step = 5257 (2.225 sec)\n",
      "INFO:tensorflow:global_step/sec: 74.3177\n",
      "INFO:tensorflow:loss = 0.034274958, step = 5357 (1.345 sec)\n",
      "INFO:tensorflow:global_step/sec: 74.3093\n",
      "INFO:tensorflow:loss = 0.03699394, step = 5457 (1.346 sec)\n",
      "INFO:tensorflow:global_step/sec: 73.6407\n",
      "INFO:tensorflow:loss = 0.034933787, step = 5557 (1.358 sec)\n",
      "INFO:tensorflow:global_step/sec: 74.1461\n",
      "INFO:tensorflow:loss = 0.03635394, step = 5657 (1.349 sec)\n",
      "INFO:tensorflow:global_step/sec: 73.923\n",
      "INFO:tensorflow:loss = 0.034292046, step = 5757 (1.353 sec)\n",
      "INFO:tensorflow:global_step/sec: 74.3758\n",
      "INFO:tensorflow:loss = 0.03207718, step = 5857 (1.344 sec)\n",
      "INFO:tensorflow:global_step/sec: 71.9464\n",
      "INFO:tensorflow:loss = 0.03364568, step = 5957 (1.390 sec)\n",
      "INFO:tensorflow:global_step/sec: 74.2052\n",
      "INFO:tensorflow:loss = 0.03333408, step = 6057 (1.347 sec)\n",
      "INFO:tensorflow:global_step/sec: 73.4109\n",
      "INFO:tensorflow:loss = 0.0343756, step = 6157 (1.362 sec)\n",
      "INFO:tensorflow:global_step/sec: 72.9849\n",
      "INFO:tensorflow:loss = 0.032008417, step = 6257 (1.370 sec)\n",
      "INFO:tensorflow:global_step/sec: 74.121\n",
      "INFO:tensorflow:loss = 0.03470406, step = 6357 (1.350 sec)\n",
      "INFO:tensorflow:global_step/sec: 74.1813\n",
      "INFO:tensorflow:loss = 0.031414133, step = 6457 (1.347 sec)\n",
      "INFO:tensorflow:global_step/sec: 74.1469\n",
      "INFO:tensorflow:loss = 0.033943873, step = 6557 (1.349 sec)\n",
      "INFO:tensorflow:global_step/sec: 71.1673\n",
      "INFO:tensorflow:loss = 0.034257386, step = 6657 (1.405 sec)\n",
      "INFO:tensorflow:global_step/sec: 74.3253\n",
      "INFO:tensorflow:loss = 0.03254899, step = 6757 (1.345 sec)\n",
      "INFO:tensorflow:global_step/sec: 71.5867\n",
      "INFO:tensorflow:loss = 0.033915024, step = 6857 (1.397 sec)\n",
      "INFO:tensorflow:global_step/sec: 74.0069\n",
      "INFO:tensorflow:loss = 0.032058164, step = 6957 (1.351 sec)\n",
      "INFO:tensorflow:global_step/sec: 73.9623\n",
      "INFO:tensorflow:loss = 0.032310046, step = 7057 (1.352 sec)\n",
      "INFO:tensorflow:global_step/sec: 73.8728\n",
      "INFO:tensorflow:loss = 0.0337551, step = 7157 (1.354 sec)\n",
      "INFO:tensorflow:global_step/sec: 63.8141\n",
      "INFO:tensorflow:loss = 0.03358092, step = 7257 (1.567 sec)\n",
      "INFO:tensorflow:global_step/sec: 73.698\n",
      "INFO:tensorflow:loss = 0.0342577, step = 7357 (1.357 sec)\n",
      "INFO:tensorflow:global_step/sec: 73.6331\n",
      "INFO:tensorflow:loss = 0.033351734, step = 7457 (1.358 sec)\n",
      "INFO:tensorflow:global_step/sec: 73.9321\n",
      "INFO:tensorflow:loss = 0.03227695, step = 7557 (1.353 sec)\n",
      "INFO:tensorflow:global_step/sec: 64.4945\n",
      "INFO:tensorflow:loss = 0.03357107, step = 7657 (1.550 sec)\n",
      "INFO:tensorflow:global_step/sec: 71.9875\n",
      "INFO:tensorflow:loss = 0.030180844, step = 7757 (1.389 sec)\n",
      "INFO:tensorflow:global_step/sec: 72.9545\n",
      "INFO:tensorflow:loss = 0.03158697, step = 7857 (1.371 sec)\n",
      "INFO:tensorflow:global_step/sec: 71.2198\n",
      "INFO:tensorflow:loss = 0.031759627, step = 7957 (1.404 sec)\n",
      "INFO:tensorflow:global_step/sec: 72.4533\n",
      "INFO:tensorflow:loss = 0.03184067, step = 8057 (1.380 sec)\n",
      "INFO:tensorflow:global_step/sec: 71.8244\n",
      "INFO:tensorflow:loss = 0.032512985, step = 8157 (1.392 sec)\n",
      "INFO:tensorflow:global_step/sec: 71.2728\n",
      "INFO:tensorflow:loss = 0.032541126, step = 8257 (1.403 sec)\n",
      "INFO:tensorflow:global_step/sec: 69.9098\n",
      "INFO:tensorflow:loss = 0.03268832, step = 8357 (1.431 sec)\n",
      "INFO:tensorflow:global_step/sec: 72.0269\n",
      "INFO:tensorflow:loss = 0.032181278, step = 8457 (1.389 sec)\n",
      "INFO:tensorflow:global_step/sec: 71.3487\n",
      "INFO:tensorflow:loss = 0.031419165, step = 8557 (1.401 sec)\n",
      "INFO:tensorflow:global_step/sec: 71.4473\n",
      "INFO:tensorflow:loss = 0.0309625, step = 8657 (1.400 sec)\n",
      "INFO:tensorflow:global_step/sec: 71.1743\n",
      "INFO:tensorflow:loss = 0.027629687, step = 8757 (1.405 sec)\n",
      "INFO:tensorflow:global_step/sec: 72.0731\n",
      "INFO:tensorflow:loss = 0.030423267, step = 8857 (1.388 sec)\n",
      "INFO:tensorflow:global_step/sec: 70.7354\n",
      "INFO:tensorflow:loss = 0.03129471, step = 8957 (1.414 sec)\n",
      "INFO:tensorflow:global_step/sec: 70.8271\n",
      "INFO:tensorflow:loss = 0.031517457, step = 9057 (1.411 sec)\n",
      "INFO:tensorflow:global_step/sec: 71.3325\n",
      "INFO:tensorflow:loss = 0.029404473, step = 9157 (1.402 sec)\n",
      "INFO:tensorflow:global_step/sec: 70.9791\n",
      "INFO:tensorflow:loss = 0.029054232, step = 9257 (1.409 sec)\n",
      "INFO:tensorflow:global_step/sec: 70.7514\n",
      "INFO:tensorflow:loss = 0.029879553, step = 9357 (1.414 sec)\n",
      "INFO:tensorflow:global_step/sec: 71.5494\n",
      "INFO:tensorflow:loss = 0.02909144, step = 9457 (1.398 sec)\n",
      "INFO:tensorflow:global_step/sec: 71.8066\n",
      "INFO:tensorflow:loss = 0.02883355, step = 9557 (1.393 sec)\n",
      "INFO:tensorflow:global_step/sec: 71.7143\n",
      "INFO:tensorflow:loss = 0.029496519, step = 9657 (1.394 sec)\n",
      "INFO:tensorflow:global_step/sec: 71.8661\n",
      "INFO:tensorflow:loss = 0.029427893, step = 9757 (1.392 sec)\n",
      "INFO:tensorflow:global_step/sec: 72.0407\n",
      "INFO:tensorflow:loss = 0.029616138, step = 9857 (1.388 sec)\n",
      "INFO:tensorflow:global_step/sec: 72.4161\n",
      "INFO:tensorflow:loss = 0.02952967, step = 9957 (1.381 sec)\n",
      "INFO:tensorflow:global_step/sec: 72.1542\n",
      "INFO:tensorflow:loss = 0.02860624, step = 10057 (1.386 sec)\n",
      "INFO:tensorflow:global_step/sec: 70.962\n",
      "INFO:tensorflow:loss = 0.02978828, step = 10157 (1.409 sec)\n",
      "INFO:tensorflow:global_step/sec: 71.3878\n",
      "INFO:tensorflow:loss = 0.02657736, step = 10257 (1.400 sec)\n",
      "INFO:tensorflow:Saving checkpoints for 10312 into model/translation-2/model.ckpt.\n",
      "INFO:tensorflow:Loss for final step: 0.028305717.\n"
     ]
    },
    {
     "data": {
      "text/plain": [
       "<tensorflow.python.estimator.estimator.Estimator at 0x7ff8b08262e8>"
      ]
     },
     "execution_count": 7,
     "metadata": {},
     "output_type": "execute_result"
    }
   ],
   "source": [
    "batch_size = 64\n",
    "epochs = 6\n",
    "steps = int(mnist_data.train_size() * epochs / batch_size)\n",
    "model.train(input_fn=lambda:train_input_fn(batch_size), steps=steps)"
   ]
  },
  {
   "cell_type": "markdown",
   "metadata": {},
   "source": [
    "# Evaluate the model"
   ]
  },
  {
   "cell_type": "code",
   "execution_count": 8,
   "metadata": {},
   "outputs": [],
   "source": [
    "test_data = eval_input_fn(4)\n",
    "with tf.Session() as sess:\n",
    "    img, trans, expec = sess.run([test_data[0]['image'],\n",
    "                                 test_data[0]['transformation'],\n",
    "                                 test_data[1]])"
   ]
  },
  {
   "cell_type": "code",
   "execution_count": 9,
   "metadata": {},
   "outputs": [
    {
     "name": "stdout",
     "output_type": "stream",
     "text": [
      "INFO:tensorflow:Calling model_fn.\n",
      "INFO:tensorflow:Done calling model_fn.\n",
      "INFO:tensorflow:Graph was finalized.\n",
      "INFO:tensorflow:Restoring parameters from model/translation-2/model.ckpt-10312\n",
      "INFO:tensorflow:Running local_init_op.\n",
      "INFO:tensorflow:Done running local_init_op.\n"
     ]
    }
   ],
   "source": [
    "predict_input_fn = tf.estimator.inputs.numpy_input_fn(\n",
    "    x={\"image\": img, \"transformation\": trans},\n",
    "    num_epochs=1,\n",
    "    shuffle=False)\n",
    "yhat = list(model.predict(input_fn=predict_input_fn))\n",
    "pred = np.array(list(map(lambda x: x['out_image'], yhat)))"
   ]
  },
  {
   "cell_type": "code",
   "execution_count": 11,
   "metadata": {},
   "outputs": [
    {
     "data": {
      "image/png": "[encoded data removed]",
      "text/plain": [
       "<Figure size 432x288 with 4 Axes>"
      ]
     },
     "metadata": {},
     "output_type": "display_data"
    },
    {
     "data": {
      "image/png": "[encoded data removed]",
      "text/plain": [
       "<Figure size 432x288 with 4 Axes>"
      ]
     },
     "metadata": {},
     "output_type": "display_data"
    },
    {
     "data": {
      "image/png": "[encoded data removed]",
      "text/plain": [
       "<Figure size 432x288 with 4 Axes>"
      ]
     },
     "metadata": {},
     "output_type": "display_data"
    },
    {
     "name": "stdout",
     "output_type": "stream",
     "text": [
      "[[ 1.4266901  -0.45416164]\n",
      " [-1.5565147   3.5318766 ]\n",
      " [-0.0660181  -1.9413929 ]\n",
      " [-4.96278    -1.836545  ]]\n"
     ]
    }
   ],
   "source": [
    "from transforming_autoencoders import plot\n",
    "plot.plot_some(img)\n",
    "plot.plot_some(expec)\n",
    "plot.plot_some(pred)\n",
    "print(trans)"
   ]
  }
 ],
 "metadata": {
  "kernelspec": {
   "display_name": "transforming-autoencoders",
   "language": "python",
   "name": "transforming-autoencoders"
  },
  "language_info": {
   "codemirror_mode": {
    "name": "ipython",
    "version": 3
   },
   "file_extension": ".py",
   "mimetype": "text/x-python",
   "name": "python",
   "nbconvert_exporter": "python",
   "pygments_lexer": "ipython3",
   "version": "3.6.4"
  }
 },
 "nbformat": 4,
 "nbformat_minor": 2
}
