{
 "cells": [
  {
   "cell_type": "code",
   "execution_count": 1,
   "metadata": {},
   "outputs": [],
   "source": [
    "# Change to project root\n",
    "import os\n",
    "os.chdir('..')"
   ]
  },
  {
   "cell_type": "code",
   "execution_count": 2,
   "metadata": {},
   "outputs": [],
   "source": [
    "# Autoreload\n",
    "%load_ext autoreload\n",
    "%autoreload 2"
   ]
  },
  {
   "cell_type": "code",
   "execution_count": 3,
   "metadata": {},
   "outputs": [],
   "source": [
    "import tensorflow as tf\n",
    "import numpy as np"
   ]
  },
  {
   "cell_type": "code",
   "execution_count": 4,
   "metadata": {},
   "outputs": [],
   "source": [
    "min_trans = -4\n",
    "max_trans = 4\n",
    "parallel_calls = 8"
   ]
  },
  {
   "cell_type": "markdown",
   "metadata": {},
   "source": [
    "# Load the data"
   ]
  },
  {
   "cell_type": "code",
   "execution_count": 5,
   "metadata": {},
   "outputs": [
    {
     "name": "stdout",
     "output_type": "stream",
     "text": [
      "Extracting data/train-images-idx3-ubyte.gz\n",
      "Extracting data/train-labels-idx1-ubyte.gz\n",
      "Extracting data/t10k-images-idx3-ubyte.gz\n",
      "Extracting data/t10k-labels-idx1-ubyte.gz\n"
     ]
    }
   ],
   "source": [
    "from transforming_autoencoders import mnist, data\n",
    "mnist_data = mnist.MNIST('data')\n",
    "\n",
    "def train_input_fn(batch_size):\n",
    "    return mnist_data.train_input_fn()(batch_size,\n",
    "                                       lambda:data.translation_fn(batch_size, min_trans,max_trans),\n",
    "                                       parallel_calls)\n",
    "def eval_input_fn(batch_size):\n",
    "    return mnist_data.eval_input_fn()(batch_size,\n",
    "                                      lambda:data.translation_fn(batch_size, min_trans,max_trans),\n",
    "                                      parallel_calls)"
   ]
  },
  {
   "cell_type": "markdown",
   "metadata": {},
   "source": [
    "# Create the estimator"
   ]
  },
  {
   "cell_type": "code",
   "execution_count": 6,
   "metadata": {},
   "outputs": [
    {
     "name": "stdout",
     "output_type": "stream",
     "text": [
      "INFO:tensorflow:Using default config.\n",
      "INFO:tensorflow:Using config: {'_model_dir': 'model/translation-2', '_tf_random_seed': None, '_save_summary_steps': 100, '_save_checkpoints_steps': None, '_save_checkpoints_secs': 600, '_session_config': None, '_keep_checkpoint_max': 5, '_keep_checkpoint_every_n_hours': 10000, '_log_step_count_steps': 100, '_service': None, '_cluster_spec': <tensorflow.python.training.server_lib.ClusterSpec object at 0x7f358e765ac8>, '_task_type': 'worker', '_task_id': 0, '_global_id_in_cluster': 0, '_master': '', '_evaluation_master': '', '_is_chief': True, '_num_ps_replicas': 0, '_num_worker_replicas': 1}\n"
     ]
    }
   ],
   "source": [
    "from transforming_autoencoders import trans_autoencoder_estimator\n",
    "model = trans_autoencoder_estimator.create_transforming_autoencoder(model_dir='model/translation-2',\n",
    "                                                                    num_capsules=30,\n",
    "                                                                    num_rec=50,\n",
    "                                                                    num_gen=50,\n",
    "                                                                    trans_size=2)"
   ]
  },
  {
   "cell_type": "markdown",
   "metadata": {},
   "source": [
    "# Train the model"
   ]
  },
  {
   "cell_type": "code",
   "execution_count": 8,
   "metadata": {},
   "outputs": [
    {
     "name": "stdout",
     "output_type": "stream",
     "text": [
      "INFO:tensorflow:Calling model_fn.\n",
      "INFO:tensorflow:Done calling model_fn.\n",
      "INFO:tensorflow:Create CheckpointSaverHook.\n",
      "INFO:tensorflow:Graph was finalized.\n",
      "INFO:tensorflow:Running local_init_op.\n",
      "INFO:tensorflow:Done running local_init_op.\n",
      "INFO:tensorflow:Saving checkpoints for 1 into model/translation-2/model.ckpt.\n",
      "INFO:tensorflow:loss = 0.36609206, step = 1\n",
      "INFO:tensorflow:global_step/sec: 44.76\n",
      "INFO:tensorflow:loss = 0.07432372, step = 101 (2.234 sec)\n",
      "INFO:tensorflow:global_step/sec: 73.5766\n",
      "INFO:tensorflow:loss = 0.06845419, step = 201 (1.359 sec)\n",
      "INFO:tensorflow:global_step/sec: 73.9283\n",
      "INFO:tensorflow:loss = 0.064824216, step = 301 (1.353 sec)\n",
      "INFO:tensorflow:global_step/sec: 73.7426\n",
      "INFO:tensorflow:loss = 0.062132157, step = 401 (1.356 sec)\n",
      "INFO:tensorflow:global_step/sec: 73.8115\n",
      "INFO:tensorflow:loss = 0.062985174, step = 501 (1.354 sec)\n",
      "INFO:tensorflow:global_step/sec: 73.5543\n",
      "INFO:tensorflow:loss = 0.05713557, step = 601 (1.359 sec)\n",
      "INFO:tensorflow:global_step/sec: 73.3547\n",
      "INFO:tensorflow:loss = 0.05858002, step = 701 (1.363 sec)\n",
      "INFO:tensorflow:global_step/sec: 73.9534\n",
      "INFO:tensorflow:loss = 0.05615209, step = 801 (1.352 sec)\n",
      "INFO:tensorflow:global_step/sec: 73.8891\n",
      "INFO:tensorflow:loss = 0.05637131, step = 901 (1.354 sec)\n",
      "INFO:tensorflow:global_step/sec: 73.3967\n",
      "INFO:tensorflow:loss = 0.05489522, step = 1001 (1.362 sec)\n",
      "INFO:tensorflow:global_step/sec: 71.9027\n",
      "INFO:tensorflow:loss = 0.054894738, step = 1101 (1.391 sec)\n",
      "INFO:tensorflow:global_step/sec: 73.556\n",
      "INFO:tensorflow:loss = 0.053244863, step = 1201 (1.360 sec)\n",
      "INFO:tensorflow:global_step/sec: 72.2286\n",
      "INFO:tensorflow:loss = 0.050791588, step = 1301 (1.385 sec)\n",
      "INFO:tensorflow:global_step/sec: 72.4372\n",
      "INFO:tensorflow:loss = 0.052841544, step = 1401 (1.380 sec)\n",
      "INFO:tensorflow:global_step/sec: 73.6106\n",
      "INFO:tensorflow:loss = 0.052524284, step = 1501 (1.359 sec)\n",
      "INFO:tensorflow:global_step/sec: 72.2188\n",
      "INFO:tensorflow:loss = 0.04983118, step = 1601 (1.384 sec)\n",
      "INFO:tensorflow:global_step/sec: 73.2104\n",
      "INFO:tensorflow:loss = 0.047781646, step = 1701 (1.366 sec)\n",
      "INFO:tensorflow:global_step/sec: 73.8153\n",
      "INFO:tensorflow:loss = 0.047028653, step = 1801 (1.355 sec)\n",
      "INFO:tensorflow:global_step/sec: 73.5048\n",
      "INFO:tensorflow:loss = 0.050044734, step = 1901 (1.361 sec)\n",
      "INFO:tensorflow:global_step/sec: 67.5649\n",
      "INFO:tensorflow:loss = 0.043886866, step = 2001 (1.480 sec)\n",
      "INFO:tensorflow:global_step/sec: 57.7624\n",
      "INFO:tensorflow:loss = 0.04578739, step = 2101 (1.731 sec)\n",
      "INFO:tensorflow:global_step/sec: 73.3544\n",
      "INFO:tensorflow:loss = 0.047003705, step = 2201 (1.363 sec)\n",
      "INFO:tensorflow:global_step/sec: 72.7222\n",
      "INFO:tensorflow:loss = 0.047874395, step = 2301 (1.375 sec)\n",
      "INFO:tensorflow:global_step/sec: 72.9591\n",
      "INFO:tensorflow:loss = 0.04685356, step = 2401 (1.371 sec)\n",
      "INFO:tensorflow:global_step/sec: 67.9292\n",
      "INFO:tensorflow:loss = 0.04424831, step = 2501 (1.472 sec)\n",
      "INFO:tensorflow:global_step/sec: 73.6637\n",
      "INFO:tensorflow:loss = 0.04416555, step = 2601 (1.357 sec)\n",
      "INFO:tensorflow:global_step/sec: 73.4802\n",
      "INFO:tensorflow:loss = 0.044819996, step = 2701 (1.361 sec)\n",
      "INFO:tensorflow:global_step/sec: 73.1877\n",
      "INFO:tensorflow:loss = 0.04207356, step = 2801 (1.366 sec)\n",
      "INFO:tensorflow:global_step/sec: 73.5387\n",
      "INFO:tensorflow:loss = 0.04332662, step = 2901 (1.360 sec)\n",
      "INFO:tensorflow:global_step/sec: 73.0795\n",
      "INFO:tensorflow:loss = 0.043055106, step = 3001 (1.369 sec)\n",
      "INFO:tensorflow:global_step/sec: 73.7915\n",
      "INFO:tensorflow:loss = 0.041196316, step = 3101 (1.355 sec)\n",
      "INFO:tensorflow:global_step/sec: 73.688\n",
      "INFO:tensorflow:loss = 0.0410331, step = 3201 (1.357 sec)\n",
      "INFO:tensorflow:global_step/sec: 73.9061\n",
      "INFO:tensorflow:loss = 0.039204314, step = 3301 (1.353 sec)\n",
      "INFO:tensorflow:global_step/sec: 73.2352\n",
      "INFO:tensorflow:loss = 0.039875656, step = 3401 (1.366 sec)\n",
      "INFO:tensorflow:global_step/sec: 73.0032\n",
      "INFO:tensorflow:loss = 0.039947454, step = 3501 (1.370 sec)\n",
      "INFO:tensorflow:global_step/sec: 73.7691\n",
      "INFO:tensorflow:loss = 0.037620265, step = 3601 (1.355 sec)\n",
      "INFO:tensorflow:global_step/sec: 73.4243\n",
      "INFO:tensorflow:loss = 0.04125296, step = 3701 (1.362 sec)\n",
      "INFO:tensorflow:global_step/sec: 73.4279\n",
      "INFO:tensorflow:loss = 0.040227037, step = 3801 (1.362 sec)\n",
      "INFO:tensorflow:global_step/sec: 72.7877\n",
      "INFO:tensorflow:loss = 0.037429918, step = 3901 (1.374 sec)\n",
      "INFO:tensorflow:global_step/sec: 72.5125\n",
      "INFO:tensorflow:loss = 0.041120324, step = 4001 (1.379 sec)\n",
      "INFO:tensorflow:global_step/sec: 71.7405\n",
      "INFO:tensorflow:loss = 0.040530782, step = 4101 (1.394 sec)\n",
      "INFO:tensorflow:global_step/sec: 73.5137\n",
      "INFO:tensorflow:loss = 0.0384351, step = 4201 (1.360 sec)\n",
      "INFO:tensorflow:global_step/sec: 73.451\n",
      "INFO:tensorflow:loss = 0.038474895, step = 4301 (1.361 sec)\n",
      "INFO:tensorflow:global_step/sec: 73.4207\n",
      "INFO:tensorflow:loss = 0.036223304, step = 4401 (1.362 sec)\n",
      "INFO:tensorflow:global_step/sec: 73.8258\n",
      "INFO:tensorflow:loss = 0.03799597, step = 4501 (1.355 sec)\n",
      "INFO:tensorflow:global_step/sec: 71.6144\n",
      "INFO:tensorflow:loss = 0.036020547, step = 4601 (1.396 sec)\n",
      "INFO:tensorflow:global_step/sec: 73.7602\n",
      "INFO:tensorflow:loss = 0.035356402, step = 4701 (1.356 sec)\n",
      "INFO:tensorflow:global_step/sec: 73.9376\n",
      "INFO:tensorflow:loss = 0.038318068, step = 4801 (1.352 sec)\n",
      "INFO:tensorflow:global_step/sec: 62.752\n",
      "INFO:tensorflow:loss = 0.034462776, step = 4901 (1.594 sec)\n",
      "INFO:tensorflow:global_step/sec: 65.7629\n",
      "INFO:tensorflow:loss = 0.037316862, step = 5001 (1.522 sec)\n",
      "INFO:tensorflow:global_step/sec: 67.3269\n",
      "INFO:tensorflow:loss = 0.032862626, step = 5101 (1.485 sec)\n",
      "INFO:tensorflow:Saving checkpoints for 5156 into model/translation-2/model.ckpt.\n",
      "INFO:tensorflow:Loss for final step: 0.031740576.\n"
     ]
    },
    {
     "data": {
      "text/plain": [
       "<tensorflow.python.estimator.estimator.Estimator at 0x7f358e765f60>"
      ]
     },
     "execution_count": 8,
     "metadata": {},
     "output_type": "execute_result"
    }
   ],
   "source": [
    "batch_size = 64\n",
    "epochs = 6\n",
    "steps = int(mnist_data.train_size() * epochs / batch_size)\n",
    "model.train(input_fn=lambda:train_input_fn(batch_size), steps=steps)"
   ]
  },
  {
   "cell_type": "markdown",
   "metadata": {},
   "source": [
    "# Evaluate the model"
   ]
  },
  {
   "cell_type": "code",
   "execution_count": 10,
   "metadata": {},
   "outputs": [],
   "source": [
    "test_data = eval_input_fn(4)\n",
    "with tf.Session() as sess:\n",
    "    img, trans, expec = sess.run([test_data[0]['image'],\n",
    "                                 test_data[0]['transformation'],\n",
    "                                 test_data[1]])"
   ]
  },
  {
   "cell_type": "code",
   "execution_count": 11,
   "metadata": {},
   "outputs": [
    {
     "name": "stdout",
     "output_type": "stream",
     "text": [
      "INFO:tensorflow:Calling model_fn.\n",
      "INFO:tensorflow:Done calling model_fn.\n",
      "INFO:tensorflow:Graph was finalized.\n",
      "INFO:tensorflow:Restoring parameters from model/translation-2/model.ckpt-5156\n",
      "INFO:tensorflow:Running local_init_op.\n",
      "INFO:tensorflow:Done running local_init_op.\n"
     ]
    }
   ],
   "source": [
    "predict_input_fn = tf.estimator.inputs.numpy_input_fn(\n",
    "    x={\"image\": img, \"transformation\": trans},\n",
    "    num_epochs=1,\n",
    "    shuffle=False)\n",
    "yhat = list(model.predict(input_fn=predict_input_fn))\n",
    "pred = np.array(list(map(lambda x: x['out_image'], yhat)))"
   ]
  },
  {
   "cell_type": "code",
   "execution_count": 13,
   "metadata": {},
   "outputs": [
    {
     "data": {
      "image/png": "[encoded data removed]",
      "text/plain": [
       "<Figure size 432x288 with 4 Axes>"
      ]
     },
     "metadata": {},
     "output_type": "display_data"
    },
    {
     "data": {
      "image/png": "[encoded data removed]",
      "text/plain": [
       "<Figure size 432x288 with 4 Axes>"
      ]
     },
     "metadata": {},
     "output_type": "display_data"
    },
    {
     "data": {
      "image/png": "[encoded data removed]",
      "text/plain": [
       "<Figure size 432x288 with 4 Axes>"
      ]
     },
     "metadata": {},
     "output_type": "display_data"
    },
    {
     "name": "stdout",
     "output_type": "stream",
     "text": [
      "[[ 1.5285206   6.3695602 ]\n",
      " [-1.9243412  -1.1441183 ]\n",
      " [-3.2594433  -0.3120966 ]\n",
      " [ 7.7716856   0.34306622]]\n"
     ]
    }
   ],
   "source": [
    "from transforming_autoencoders import plot\n",
    "plot.plot_some(img)\n",
    "plot.plot_some(expec)\n",
    "plot.plot_some(pred)\n",
    "print(trans)"
   ]
  }
 ],
 "metadata": {
  "kernelspec": {
   "display_name": "transforming-autoencoders",
   "language": "python",
   "name": "transforming-autoencoders"
  },
  "language_info": {
   "codemirror_mode": {
    "name": "ipython",
    "version": 3
   },
   "file_extension": ".py",
   "mimetype": "text/x-python",
   "name": "python",
   "nbconvert_exporter": "python",
   "pygments_lexer": "ipython3",
   "version": "3.6.4"
  }
 },
 "nbformat": 4,
 "nbformat_minor": 2
}
